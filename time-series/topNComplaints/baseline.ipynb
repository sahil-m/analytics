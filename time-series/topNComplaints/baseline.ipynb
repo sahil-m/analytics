{
 "cells": [
  {
   "cell_type": "code",
   "execution_count": null,
   "metadata": {
    "collapsed": false
   },
   "outputs": [],
   "source": [
    "library(hash)\n",
    "library(xts)\n",
    "library(lubridate)\n",
    "library(forecast)\n",
    "library(fpp)"
   ]
  },
  {
   "cell_type": "code",
   "execution_count": null,
   "metadata": {
    "collapsed": false
   },
   "outputs": [],
   "source": [
    "# Constants used throughout the code\n",
    "INPUT_FILE <- \"../../../cocUptoJuly2016.csv\"\n",
    "DATA_FOLDER <- \"../data/topNComplaints\""
   ]
  },
  {
   "cell_type": "markdown",
   "metadata": {
    "collapsed": true
   },
   "source": [
    "# Base Vignette\n",
    "Purpose:\n",
    "- To provide a quick start code snippet to get the data, loaded into a useable format for forecasting modules\n",
    "- Establish a baseline forecast"
   ]
  },
  {
   "cell_type": "code",
   "execution_count": null,
   "metadata": {
    "collapsed": false
   },
   "outputs": [],
   "source": [
    "# load the data\n",
    "df <- read.csv(INPUT_FILE, stringsAsFactors = F)\n",
    "df$Complaint.Date <- as.Date(df$Complaint.Date, format = \"%m/%d/%Y\")\n",
    "df$Resolution.Date <- as.Date(df$Resolution.Date, format=\"%m/%d/%Y\")\n",
    "df$NumComplaints <- 1\n",
    "minDate <- min(df$Complaint.Date)\n",
    "maxDate <- max(df$Complaint.Date)\n",
    "\n",
    "head(df)"
   ]
  },
  {
   "cell_type": "code",
   "execution_count": null,
   "metadata": {
    "collapsed": false
   },
   "outputs": [],
   "source": [
    "# pick top complaint types, and model only that data\n",
    "topComplaintTypes <- data.frame(table(df$Complaint.Type))\n",
    "topComplaintTypes <- topComplaintTypes[order(-topComplaintTypes$Freq),]\n",
    "topComplaintTypes <- topComplaintTypes[1:10, ]\n",
    "topComplaintTypes <- as.character(topComplaintTypes$Var1)\n",
    "print(topComplaintTypes)"
   ]
  },
  {
   "cell_type": "code",
   "execution_count": null,
   "metadata": {
    "collapsed": false
   },
   "outputs": [],
   "source": [
    "data <- df[df$Complaint.Type %in% topComplaintTypes, ]"
   ]
  },
  {
   "cell_type": "code",
   "execution_count": null,
   "metadata": {
    "collapsed": false
   },
   "outputs": [],
   "source": [
    "print(unique(data$Complaint.Type))"
   ]
  },
  {
   "cell_type": "markdown",
   "metadata": {},
   "source": [
    "# Create data files\n",
    "\n",
    "For ease of modeling, construct data in the following format: `\"Month\", \"Year\", \"Complaints\"` , with missing values filled in. \n"
   ]
  },
  {
   "cell_type": "code",
   "execution_count": null,
   "metadata": {
    "collapsed": false
   },
   "outputs": [],
   "source": [
    "# create the 'ideal' data set\n",
    "# TODO Sahil, isn't there a better way to do this?\n",
    "minYear <- year(minDate)\n",
    "maxYear <- year(maxDate)\n",
    "ideal <- data.frame(Month=character(), Year=integer(), stringsAsFactors=F)\n",
    "for(year in seq(from=minYear, to=maxYear)) {    \n",
    "    for(month in month.abb) {\n",
    "        r <- nrow(ideal)\n",
    "        month <- as.character(month)\n",
    "        ideal[nrow(ideal)+1,] <- c(month, year)        \n",
    "    }\n",
    "}"
   ]
  },
  {
   "cell_type": "code",
   "execution_count": null,
   "metadata": {
    "collapsed": false
   },
   "outputs": [],
   "source": [
    "head(ideal)"
   ]
  },
  {
   "cell_type": "code",
   "execution_count": null,
   "metadata": {
    "collapsed": false
   },
   "outputs": [],
   "source": [
    "constructMonthlyData <- function(data, complaintType) {\n",
    "    # make this a function for re-use\n",
    "    d <- data[data$Complaint.Type == complaintType, ]\n",
    "    # create xts object for rolling up the data \n",
    "    series <- xts(d$NumComplaints, d$Complaint.Date)\n",
    "    series <- apply.monthly(series, FUN = sum)\n",
    "    # create a df for easy access\n",
    "    monthlyData <- data.frame(Date=index(series), Complaints=coredata(series))\n",
    "    # create columns for join \n",
    "    monthlyData$Month <- month.abb[month(monthlyData$Date)]\n",
    "    monthlyData$Year <- year(monthlyData$Date)\n",
    "    joined <- merge(x = ideal, y = monthlyData, by = c(\"Month\", \"Year\"), sort=F, all= T)        \n",
    "    # don't need date\n",
    "    joined$Date <- NULL\n",
    "    # sort it by year-month, since R doesn't do it otherwise /endrant    \n",
    "    joined <- joined[order(as.yearmon(paste0(joined$Year, \"-\", joined$Month), \"%Y-%b\")), ]\n",
    "    joined[is.na(joined$Complaints), ]$Complaints <- 0   \n",
    "    joined\n",
    "}\n",
    "# create the files\n",
    "for(complaintType in topComplaintTypes) {    \n",
    "    joined <- constructMonthlyData(data, complaintType)\n",
    "    # one complaint type has a '/' in it, which messes up the paths    \n",
    "    path <- file.path(DATA_FOLDER, paste0(gsub(\"/\", \"\", complaintType), \".csv\"))\n",
    "    print(paste0(\"Saving file\", path))\n",
    "    write.csv(joined, file=path, row.names=F)\n",
    "}"
   ]
  },
  {
   "cell_type": "markdown",
   "metadata": {},
   "source": [
    "# Baseline method\n",
    "\n",
    "The purpose of this exercise is to establish a [baseline](http://machinelearningmastery.com/how-to-get-baseline-results-and-why-they-matter/) to help us compare the 'naive' method with ML models. \n",
    "\n",
    "The modelling methods used are described in detail in [here](https://www.otexts.org/fpp/2/3). "
   ]
  },
  {
   "cell_type": "code",
   "execution_count": null,
   "metadata": {
    "collapsed": false
   },
   "outputs": [],
   "source": [
    "# trying it with one complaint type\n",
    "complaintType <- topComplaintTypes[1]\n",
    "monthly <- constructMonthlyData(data, complaintType)\n",
    "monthly$Complaints"
   ]
  },
  {
   "cell_type": "code",
   "execution_count": null,
   "metadata": {
    "collapsed": false
   },
   "outputs": [],
   "source": [
    "# convert it to a ts object\n",
    "monthly <- ts(monthly$Complaints, start=c(minYear, 1), frequency = 12)"
   ]
  },
  {
   "cell_type": "code",
   "execution_count": null,
   "metadata": {
    "collapsed": false
   },
   "outputs": [],
   "source": [
    "print(monthly)"
   ]
  },
  {
   "cell_type": "code",
   "execution_count": null,
   "metadata": {
    "collapsed": false
   },
   "outputs": [],
   "source": [
    "seasonplot(monthly,ylab=\"Number of complaints\", xlab=\"Year\",\n",
    "  main=paste0(\"Seasona plot for \", complaintType),\n",
    "  year.labels=TRUE, year.labels.left=TRUE, col=1:20, pch=19)"
   ]
  },
  {
   "cell_type": "code",
   "execution_count": null,
   "metadata": {
    "collapsed": false
   },
   "outputs": [],
   "source": [
    "naiveMethodsPlot <- function(monthly, complaintType) {\n",
    "    h <- 12\n",
    "    trainStart <- c(2013, 1)\n",
    "    trainEnd <- c(2015, 1)\n",
    "    testStart <- trainEnd\n",
    "    testEnd <- c(2015, 12)\n",
    "    monthly2 <- window(monthly,start=trainStart, end=trainEnd)\n",
    "    monthlyAfter <- window(monthly, start=testStart, end=testEnd)    \n",
    "    monthlyfit1 <- meanf(monthly2, h=h)\n",
    "    monthlyfit2 <- naive(monthly2, h=h)\n",
    "    monthlyfit3 <- snaive(monthly2, h=h)\n",
    "    monthlyfit4 <- rwf(monthly2, h=h, drift=TRUE)\n",
    "    \n",
    "    plot(monthlyfit1, plot.conf=FALSE,\n",
    "      main=paste0(\"Forecasts for \", complaintType))    \n",
    "    lines(monthlyAfter, lty=2)\n",
    "    lines(monthlyfit2$mean,col=2)\n",
    "    lines(monthlyfit3$mean,col=3)\n",
    "    lines(monthlyfit4$mean, col=6)\n",
    "    legend(\"topleft\",col=c(1,4,2,3,6), lty=c(2, 1, 1, 1,1),\n",
    "      legend=c(\"Actual Data\", \"Pred: Mean method\",\n",
    "               \"Pred: Naive method\",\"Pred: Seasonal naive method\",\n",
    "              \"Pred: Drift Method\"))        \n",
    "    # TODO: Remove this line, since later on, we'll have all the data for 2015 \n",
    "    monthlyAfter <- window(monthly, start=c(maxYear, 1), end=c(maxYear, 6))    \n",
    "    print(paste0(complaintType, \": Mean Method\"))\n",
    "    print(accuracy(monthlyfit1, monthlyAfter))\n",
    "    print(paste0(complaintType, \": Naive Method\"))\n",
    "    print(accuracy(monthlyfit2, monthlyAfter))\n",
    "    print(paste0(complaintType, \": Seasonal Method\"))\n",
    "    print(accuracy(monthlyfit3, monthlyAfter))\n",
    "    print(paste0(complaintType, \": Drift Method\"))\n",
    "    print(accuracy(monthlyfit4, monthlyAfter))\n",
    "}\n",
    "naiveMethodsPlot(monthly, topComplaintTypes[1])"
   ]
  },
  {
   "cell_type": "code",
   "execution_count": null,
   "metadata": {
    "collapsed": false
   },
   "outputs": [],
   "source": [
    "# do this for other complaint types as well\n",
    "for(complaintType in topComplaintTypes[2:length(topComplaintTypes)]) {\n",
    "    monthly <- constructMonthlyData(data, complaintType)\n",
    "    monthly <- ts(monthly$Complaints, start=c(minYear, 1), frequency = 12)\n",
    "    naiveMethodsPlot(monthly, complaintType)    \n",
    "}"
   ]
  },
  {
   "cell_type": "markdown",
   "metadata": {
    "collapsed": true
   },
   "source": [
    "## Boilerplate Code\n",
    "The code below contains some boilerplate code that loads the data into a usable format\n"
   ]
  },
  {
   "cell_type": "code",
   "execution_count": null,
   "metadata": {
    "collapsed": false
   },
   "outputs": [],
   "source": [
    "loadData <- function(dataFolder) {\n",
    "    files <- list.files(dataFolder)\n",
    "    data <- list()\n",
    "    for(file in files) {    \n",
    "        df <- read.csv(paste0(dataFolder, \"/\", file), stringsAsFactors=F)    \n",
    "        minYear <- min(df$Year)\n",
    "        complaintType <- substr(file,1,(nchar(file))-4)    \n",
    "        tsObject <- ts(df$Complaints, start=c(minYear, 1), frequency = 12)\n",
    "        data[[complaintType]] <- tsObject\n",
    "    }\n",
    "    data\n",
    "}\n",
    "print(loadData(DATA_FOLDER))"
   ]
  },
  {
   "cell_type": "code",
   "execution_count": null,
   "metadata": {
    "collapsed": true
   },
   "outputs": [],
   "source": []
  }
 ],
 "metadata": {
  "kernelspec": {
   "display_name": "R",
   "language": "R",
   "name": "ir"
  },
  "language_info": {
   "codemirror_mode": "r",
   "file_extension": ".r",
   "mimetype": "text/x-r-source",
   "name": "R",
   "pygments_lexer": "r",
   "version": "3.2.3"
  }
 },
 "nbformat": 4,
 "nbformat_minor": 0
}
