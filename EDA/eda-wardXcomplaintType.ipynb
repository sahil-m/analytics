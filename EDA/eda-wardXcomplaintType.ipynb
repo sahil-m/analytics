{
 "cells": [
  {
   "cell_type": "markdown",
   "metadata": {},
   "source": [
    "## EDA for Ward x Complaint Type Time Series Analysis\n",
    "Objectives: \n",
    "- Find out which Ward x Complaint Type is suitable for modeling using TSM\n",
    "- Find obvious patterns in the data. In particular, answer what complaint types occur predominatly during which time periods.\n",
    "- Construct data files to be used in TSM"
   ]
  },
  {
   "cell_type": "code",
   "execution_count": null,
   "metadata": {
    "collapsed": false
   },
   "outputs": [],
   "source": [
    "library(forecast)\n",
    "library(xts)\n",
    "library(lubridate)\n",
    "library(dplyr)"
   ]
  },
  {
   "cell_type": "code",
   "execution_count": null,
   "metadata": {
    "collapsed": true
   },
   "outputs": [],
   "source": [
    "RAW_PATH = \"/home/samarth/workspaces/datakind-workspace/cocUptoJuly2016.csv\""
   ]
  },
  {
   "cell_type": "code",
   "execution_count": null,
   "metadata": {
    "collapsed": true
   },
   "outputs": [],
   "source": [
    "nas <- c(NA, 'NA', '', ' ', 'NULL')\n",
    "df <- read.csv(RAW_PATH, stringsAsFactors = F,\n",
    "                    na.strings = nas)\n"
   ]
  },
  {
   "cell_type": "code",
   "execution_count": null,
   "metadata": {
    "collapsed": true
   },
   "outputs": [],
   "source": [
    "df$Complaint.Date <- as.Date(df$Complaint.Date, format = \"%m/%d/%Y\")\n",
    "df$Resolution.Date <- as.Date(df$Resolution.Date, format = \"%m/%d/%Y\")\n",
    "df$NumComplaints <- 1\n",
    "\n",
    "# discard pre-2012 data, and post 2016 data\n",
    "df <- df[df$Complaint.Date >= as.Date(\"01/01/2012\", format = \"%m/%d/%Y\"), ] \n",
    "df <- df[df$Complaint.Date < as.Date(\"01/01/2016\", format = \"%m/%d/%Y\"), ] "
   ]
  },
  {
   "cell_type": "code",
   "execution_count": null,
   "metadata": {
    "collapsed": false
   },
   "outputs": [],
   "source": [
    "head(df)"
   ]
  },
  {
   "cell_type": "code",
   "execution_count": null,
   "metadata": {
    "collapsed": false
   },
   "outputs": [],
   "source": [
    "# plot distribution of complaints\n",
    "wardComplaints <- table(df$Ward)\n",
    "wardComplaints <- wardComplaints[order(-wardComplaints)]\n",
    "plot(wardComplaints)"
   ]
  },
  {
   "cell_type": "code",
   "execution_count": null,
   "metadata": {
    "collapsed": false
   },
   "outputs": [],
   "source": [
    "(wardComplaints / nrow(df)) * 100"
   ]
  },
  {
   "cell_type": "code",
   "execution_count": null,
   "metadata": {
    "collapsed": false
   },
   "outputs": [],
   "source": [
    "plot.ward.details <- function(df, ward) {\n",
    "    df <- df[df$Ward == ward, ]\n",
    "    series <- xts(df$NumComplaints, df$Complaint.Date)\n",
    "    series <- apply.monthly(series, FUN = sum)    \n",
    "    plot(series, main=\"Overall Complaint Distribution\")\n",
    "    \n",
    "    # plot top 6 complaint types    \n",
    "    complaintCounts <- table(df$Complaint.Type)\n",
    "    complaintCounts <- complaintCounts[order(-complaintCounts)]    \n",
    "    opar <- par(mfrow=c(3,2))\n",
    "    for(i in 1:6) {\n",
    "        complaintType <- names(complaintCounts[i])        \n",
    "        sub <- df[df$Complaint.Type == complaintType, ]        \n",
    "        series <- xts(sub$NumComplaints, sub$Complaint.Date)\n",
    "        series <- apply.monthly(series, FUN = sum)    \n",
    "        plot(series, main=paste0(\"Complaint Distribution for \", complaintType))\n",
    "    }\n",
    "    par(opar)\n",
    "    \n",
    "    df$Month <- month(df$Complaint.Date)\n",
    "    df$Year <- year(df$Complaint.Date)\n",
    "    \n",
    "    monthly <- table(Month=df$Month)    \n",
    "    plot(monthly)\n",
    "    monthly <- as.data.frame(monthly[order(-monthly)])\n",
    "    #monthly$Month <- month.abb[monthly$Month]\n",
    "    print(monthly)    \n",
    "    yearly <- as.data.frame(table(Month=df$Month, Year=df$Year))\n",
    "    yearly$Month <- month.abb[yearly$Month]    \n",
    "}\n",
    "plot.ward.details(df, \"N188\")"
   ]
  },
  {
   "cell_type": "code",
   "execution_count": null,
   "metadata": {
    "collapsed": true
   },
   "outputs": [],
   "source": [
    "wards <- unique(df$Ward)\n",
    "complaintTypes <- unique(df$Complaint.Type)"
   ]
  },
  {
   "cell_type": "code",
   "execution_count": null,
   "metadata": {
    "collapsed": true
   },
   "outputs": [],
   "source": [
    "wardXComplaint <- expand.grid(Ward=wards, complaintType=complaintTypes, stringsAsFactors=F)"
   ]
  },
  {
   "cell_type": "code",
   "execution_count": null,
   "metadata": {
    "collapsed": false
   },
   "outputs": [],
   "source": [
    "constructSeries <- function(df, ward, complaintType) {        \n",
    "    df <- df[(df$Ward == ward) & (df$Complaint.Type == complaintType), ]    \n",
    "    if(nrow(df) == 0) {\n",
    "        return(NULL)\n",
    "    }\n",
    "    series <- xts(df$NumComplaints, df$Complaint.Date)\n",
    "    return(apply.monthly(series, FUN = sum))\n",
    "}"
   ]
  },
  {
   "cell_type": "code",
   "execution_count": null,
   "metadata": {
    "collapsed": false
   },
   "outputs": [],
   "source": [
    "series <- apply(wardXComplaint[1:nrow(wardXComplaint), ], 1, function(row) constructSeries(df, row[\"Ward\"], row[\"complaintType\"]))"
   ]
  },
  {
   "cell_type": "code",
   "execution_count": null,
   "metadata": {
    "collapsed": false
   },
   "outputs": [],
   "source": [
    "head(series)"
   ]
  },
  {
   "cell_type": "code",
   "execution_count": null,
   "metadata": {
    "collapsed": true
   },
   "outputs": [],
   "source": []
  }
 ],
 "metadata": {
  "kernelspec": {
   "display_name": "R",
   "language": "R",
   "name": "ir"
  },
  "language_info": {
   "codemirror_mode": "r",
   "file_extension": ".r",
   "mimetype": "text/x-r-source",
   "name": "R",
   "pygments_lexer": "r",
   "version": "3.3.1"
  }
 },
 "nbformat": 4,
 "nbformat_minor": 0
}
