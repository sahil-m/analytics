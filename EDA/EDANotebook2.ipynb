{
 "cells": [
  {
   "cell_type": "code",
   "execution_count": null,
   "metadata": {
    "collapsed": false
   },
   "outputs": [],
   "source": [
    "library(dplyr)\n",
    "library(ggplot2)\n",
    "library(plotly)\n",
    "a = read.csv(\"/home/mansiarora/Documents/DataCor_egov/Data/ddive_rolled_seq.csv\")\n",
    "str(a)"
   ]
  },
  {
   "cell_type": "code",
   "execution_count": null,
   "metadata": {
    "collapsed": true
   },
   "outputs": [],
   "source": [
    "a$Complaint.Date = as.Date(a$Complaint.Date, format = \"%Y-%m-%d\")\n",
    "a$Month = format(a$Complaint.Date, format = \"%m\")\n",
    "a$Year = format(a$Complaint.Date, \"%Y\")\n",
    "a$Week = format(a$Complaint.Date, \"%W\")\n",
    "a$Weekday = weekdays(a$Complaint.Date)\n",
    "a$Week_Year = paste0(a$Week, \"_\", a$Year)\n",
    "a$Month_Year = paste0(a$Month, \"_\", a$Year) "
   ]
  },
  {
   "cell_type": "code",
   "execution_count": null,
   "metadata": {
    "collapsed": false
   },
   "outputs": [],
   "source": [
    "# Counts by complaint type\n",
    "b = a %>%  group_by(Complaint.Type) %>%\n",
    "    summarise(count = sum(complaint_count))\n",
    "b = b[order(-b$count),]  \n",
    "b <- transform(b, Complaint.Type = reorder(Complaint.Type, -count))\n",
    "ggplot(b[1:20,], aes(x=Complaint.Type, y=count)) + geom_bar(stat = \"identity\") + theme(axis.text.x=element_text(angle=90,hjust=1,vjust=0.5))\n",
    "topcomplaints = unique(b$Complaint.Type)[1:10]\n"
   ]
  },
  {
   "cell_type": "code",
   "execution_count": null,
   "metadata": {
    "collapsed": false
   },
   "outputs": [],
   "source": [
    "# Counts by Ward\n",
    "c = a %>%\n",
    "  group_by(Ward) %>%\n",
    "  summarise(count = sum(complaint_count))\n",
    "c = c[order(-c$count),]  \n",
    "c <- transform(c, Ward = reorder(Ward, -count))\n",
    "ggplot(c[1:20,], aes(x=Ward, y=count)) + geom_bar(stat = \"identity\") + theme(axis.text.x=element_text(angle=90,hjust=1,vjust=0.5))\n",
    "topwards = unique(c$Ward)[1:10]\n",
    "topwards"
   ]
  },
  {
   "cell_type": "code",
   "execution_count": null,
   "metadata": {
    "collapsed": true
   },
   "outputs": [],
   "source": [
    "# Counts by complaint type and ward\n",
    "d = a %>%\n",
    "  group_by(Complaint.Type, Ward) %>%\n",
    "    summarise(count = sum(complaint_count))\n",
    "d = d[order(-d$count),]  \n"
   ]
  },
  {
   "cell_type": "code",
   "execution_count": null,
   "metadata": {
    "collapsed": false
   },
   "outputs": [],
   "source": [
    "# top 5 complaints of each ward\n",
    "e = data_frame(Complaint.Type = character(), Ward = character(), count = numeric())\n",
    "for( i in 1:length(topwards)) {\n",
    "  x = d[d$Ward == topwards[i],]\n",
    "  others_sum=sum(x[11:nrow(x),]$count, na.rm = TRUE)\n",
    "  x = data.frame(x[1:5,])\n",
    "  #y = data.frame(Complaint.Type = \"Others\", Ward = topwards[i], count=others_sum)\n",
    "  #x = rbind(x, y)\n",
    "  e = rbind(e, x)\n",
    "}\n",
    "ggplot(e, aes(x=Ward, y=count, fill=Complaint.Type)) + geom_bar(stat = \"identity\", position = \"fill\")\n"
   ]
  },
  {
   "cell_type": "code",
   "execution_count": null,
   "metadata": {
    "collapsed": false
   },
   "outputs": [],
   "source": [
    "# Counts by complaint date (month)\n",
    "f = a %>%\n",
    "  group_by(Month) %>%\n",
    "  summarise(count = sum(complaint_count))\n",
    "f = f[order(-f$count),]  \n",
    "ggplot(f, aes(x=Month, y=count)) + geom_bar(stat = \"identity\")\n"
   ]
  },
  {
   "cell_type": "code",
   "execution_count": null,
   "metadata": {
    "collapsed": false
   },
   "outputs": [],
   "source": [
    "g = a %>%\n",
    "  group_by(Year) %>%\n",
    "  summarise(count = sum(complaint_count))\n",
    "g = g[order(-g$count),]  \n",
    "ggplot(g, aes(x=Year, y=count)) + geom_bar(stat = \"identity\")\n"
   ]
  },
  {
   "cell_type": "code",
   "execution_count": null,
   "metadata": {
    "collapsed": false
   },
   "outputs": [],
   "source": [
    "h = a %>%\n",
    "  group_by(Month, Year) %>%\n",
    "  summarise(count = sum(complaint_count))\n",
    "h = h[order(-h$count),]  \n",
    "ggplot(h, aes(x=Month, y=count, fill=Year)) + geom_bar(stat = \"identity\", position = \"fill\")\n",
    "ggplot(h, aes(x=Year, y=count, fill=Month)) + geom_bar(stat = \"identity\", position = \"fill\")\n",
    "\n"
   ]
  },
  {
   "cell_type": "code",
   "execution_count": null,
   "metadata": {
    "collapsed": false
   },
   "outputs": [],
   "source": [
    "# Trend of top complaint types over time\n",
    "i = a[a$Complaint.Type %in% topcomplaints,] %>%\n",
    "  group_by(Complaint.Type, Year) %>%\n",
    "  summarise(count = sum(complaint_count))\n",
    "i = i[order(-i$count),]  \n",
    "ggplot(i, aes(x=Year, y=count, fill=Complaint.Type)) + geom_bar(stat = \"identity\", position = \"fill\")\n",
    "\n",
    "j = a[a$Complaint.Type %in% topcomplaints,] %>%\n",
    "  group_by(Complaint.Type, Month) %>%\n",
    "  summarise(count = sum(complaint_count))\n",
    "j = j[order(-j$count),]  \n",
    "ggplot(j, aes(x=Month, y=count, fill=Complaint.Type)) + geom_bar(stat = \"identity\", position = \"fill\")\n",
    "\n",
    "k = a[a$Complaint.Type %in% topcomplaints,] %>%\n",
    "  group_by(Complaint.Type, Month_Year) %>%\n",
    "  summarise(count = sum(complaint_count))\n",
    "k = k[order(-k$count),]  \n",
    "ggplot(k, aes(x=Month_Year, y=count, fill=Complaint.Type)) + geom_bar(stat = \"identity\", position = \"fill\") + theme(axis.text.x=element_text(angle=90,hjust=0.4,vjust=0.1))\n"
   ]
  },
  {
   "cell_type": "code",
   "execution_count": null,
   "metadata": {
    "collapsed": false
   },
   "outputs": [],
   "source": [
    "# Trend of top wards over time\n",
    "l = a[a$Ward %in% topwards,] %>%\n",
    "  group_by(Ward, Year) %>%\n",
    "  summarise(count = sum(complaint_count))\n",
    "l = l[order(-l$count),]  \n",
    "l$Ward <- factor(l$Ward, topwards)\n",
    "ggplot(l, aes(x=Year, y=count, fill=Ward)) + geom_bar(stat = \"identity\")\n",
    "ggplot(l, aes(x=Year, y=count, fill=Ward)) + geom_bar(stat = \"identity\", position = \"fill\")\n",
    "\n",
    "m = a[a$Ward %in% topwards,] %>%\n",
    "  group_by(Ward, Month) %>%\n",
    "  summarise(count = sum(complaint_count))\n",
    "m = m[order(-m$count),]  \n",
    "ggplot(m, aes(x=Month, y=count, fill=Ward)) + geom_bar(stat = \"identity\")\n",
    "ggplot(m, aes(x=Month, y=count, fill=Ward)) + geom_bar(stat = \"identity\", position = \"fill\")\n"
   ]
  },
  {
   "cell_type": "code",
   "execution_count": null,
   "metadata": {
    "collapsed": false
   },
   "outputs": [],
   "source": [
    "#install.packages(\"gridExtra\")\n",
    "library(\"gridExtra\")\n",
    "\n",
    "# Density plot\n",
    "C1 = a[a$Complaint.Type == topcomplaints[1],]\n",
    "D1 = ggplot(C1, aes(x=complaint_count)) + geom_density()\n",
    "\n",
    "C2 = a[a$Complaint.Type == topcomplaints[2],]\n",
    "D2 = ggplot(C2, aes(x=complaint_count)) + geom_density()\n",
    "\n",
    "C3 = a[a$Complaint.Type == topcomplaints[3],]\n",
    "D3 = ggplot(C3, aes(x=complaint_count)) + geom_density()\n",
    "\n",
    "C4 = a[a$Complaint.Type == topcomplaints[4],]\n",
    "D4 = ggplot(C4, aes(x=complaint_count)) + geom_density()\n",
    "\n",
    "C5 = a[a$Complaint.Type == topcomplaints[5],]\n",
    "D5 = ggplot(C5, aes(x=complaint_count)) + geom_density()\n",
    "\n",
    "C6 = a[a$Complaint.Type == topcomplaints[6],]\n",
    "D6 = ggplot(C6, aes(x=complaint_count)) + geom_density()\n",
    "\n",
    "grid.arrange(D1, D2, D3, D4, D5, D6, ncol=3, nrow =2)"
   ]
  },
  {
   "cell_type": "code",
   "execution_count": null,
   "metadata": {
    "collapsed": false
   },
   "outputs": [],
   "source": [
    "# Complaint Count by date\n",
    "\n",
    "C1a = C1 %>%\n",
    "  group_by(Complaint.Date) %>%\n",
    "  summarise(count = sum(complaint_count))\n",
    "a = ggplot(C1a, aes(x=Complaint.Date,y=count)) + geom_bar(stat=\"identity\") + ggtitle(topcomplaints[1]) + theme(plot.title = element_text(size = 10))\n",
    "\n",
    "C2a = C2 %>%\n",
    "  group_by(Complaint.Date) %>%\n",
    "  summarise(count = sum(complaint_count))\n",
    "b = ggplot(C2a, aes(x=Complaint.Date,y=count)) + geom_bar(stat=\"identity\") + ggtitle(topcomplaints[2]) + theme(plot.title = element_text(size = 10))\n",
    "\n",
    "\n",
    "C3a = C3 %>%\n",
    "  group_by(Complaint.Date) %>%\n",
    "  summarise(count = sum(complaint_count))\n",
    "c = ggplot(C3a, aes(x=Complaint.Date,y=count)) + geom_bar(stat=\"identity\") + ggtitle(topcomplaints[3]) + theme(plot.title = element_text(size = 10))\n",
    "\n",
    "\n",
    "C4a = C4 %>%\n",
    "  group_by(Complaint.Date) %>%\n",
    "  summarise(count = sum(complaint_count))\n",
    "d = ggplot(C4a, aes(x=Complaint.Date,y=count)) + geom_bar(stat=\"identity\") + ggtitle(topcomplaints[4]) + theme(plot.title = element_text(size = 10))\n",
    "\n",
    "\n",
    "C5a = C5 %>%\n",
    "  group_by(Complaint.Date) %>%\n",
    "  summarise(count = sum(complaint_count))\n",
    "e = ggplot(C5a, aes(x=Complaint.Date,y=count)) + geom_bar(stat=\"identity\") + ggtitle(topcomplaints[5]) + theme(plot.title = element_text(size = 10))\n",
    "\n",
    "\n",
    "C6a = C6 %>%\n",
    "  group_by(Complaint.Date) %>%\n",
    "  summarise(count = sum(complaint_count))\n",
    "f = ggplot(C6a, aes(x=Complaint.Date,y=count)) + geom_bar(stat=\"identity\") + ggtitle(topcomplaints[6]) + theme(plot.title = element_text(size = 8))\n",
    "\n",
    "grid.arrange(a, b, c, d, e, f, ncol=3, nrow =2)\n",
    "\n"
   ]
  },
  {
   "cell_type": "code",
   "execution_count": null,
   "metadata": {
    "collapsed": false
   },
   "outputs": [],
   "source": [
    "# Complaint Count by Year\n",
    "\n",
    "C1b = C1 %>%\n",
    "  group_by(Year) %>%\n",
    "  summarise(count = sum(complaint_count))\n",
    "a = ggplot(C1b, aes(x=Year,y=count)) + geom_bar(stat=\"identity\") + ggtitle(topcomplaints[1]) + theme(plot.title = element_text(size = 10))\n",
    "\n",
    "C2b = C2 %>%\n",
    "  group_by(Year) %>%\n",
    "  summarise(count = sum(complaint_count))\n",
    "b = ggplot(C2b, aes(x=Year,y=count)) +  geom_bar(stat=\"identity\") + ggtitle(topcomplaints[2]) + theme(plot.title = element_text(size = 10))\n",
    "\n",
    "C3b = C3 %>%\n",
    "  group_by(Year) %>%\n",
    "  summarise(count = sum(complaint_count))\n",
    "c = ggplot(C3b, aes(x=Year,y=count))+ geom_bar(stat=\"identity\") + ggtitle(topcomplaints[3]) + theme(plot.title = element_text(size = 10))\n",
    "\n",
    "C4b = C4 %>%\n",
    "  group_by(Year) %>%\n",
    "  summarise(count = sum(complaint_count))\n",
    "d = ggplot(C4b, aes(x=Year,y=count)) + geom_bar(stat=\"identity\") + ggtitle(topcomplaints[4]) + theme(plot.title = element_text(size = 10))\n",
    "\n",
    "C5b = C5 %>%\n",
    "  group_by(Year) %>%\n",
    "  summarise(count = sum(complaint_count))\n",
    "e = ggplot(C5b, aes(x=Year,y=count)) + geom_bar(stat=\"identity\") + ggtitle(topcomplaints[5]) + theme(plot.title = element_text(size = 10))\n",
    "\n",
    "C6b = C6 %>%\n",
    "  group_by(Year) %>%\n",
    "  summarise(count = sum(complaint_count))\n",
    "f = ggplot(C6b, aes(x=Year,y=count)) + geom_bar(stat=\"identity\") + ggtitle(topcomplaints[6]) + theme(plot.title = element_text(size = 10))\n",
    "\n",
    "grid.arrange(a, b, c, d, e, f, ncol=3, nrow =2)\n",
    "\n"
   ]
  },
  {
   "cell_type": "code",
   "execution_count": null,
   "metadata": {
    "collapsed": false
   },
   "outputs": [],
   "source": [
    "# Complaint Count by Week\n",
    "\n",
    "C1c = C1 %>%\n",
    "  group_by(Week) %>%\n",
    "  summarise(count = sum(complaint_count))\n",
    "a = ggplot(C1c, aes(x=Week,y=count)) + geom_line(group=1) + ggtitle(topcomplaints[1]) + theme(plot.title = element_text(size = 10))\n",
    "\n",
    "C2c = C2 %>%\n",
    "  group_by(Week) %>%\n",
    "  summarise(count = sum(complaint_count))\n",
    "b = ggplot(C2c, aes(x=Week,y=count)) +  geom_line(group=1) + ggtitle(topcomplaints[2]) + theme(plot.title = element_text(size = 10))\n",
    "\n",
    "C3c = C3 %>%\n",
    "  group_by(Week) %>%\n",
    "  summarise(count = sum(complaint_count))\n",
    "c = ggplot(C3c, aes(x=Week,y=count))+ geom_line(group=1) + ggtitle(topcomplaints[3]) + theme(plot.title = element_text(size = 10))\n",
    "\n",
    "C4c = C4 %>%\n",
    "  group_by(Week) %>%\n",
    "  summarise(count = sum(complaint_count))\n",
    "d = ggplot(C4c, aes(x=Week,y=count)) + geom_line(group=1) + ggtitle(topcomplaints[4]) + theme(plot.title = element_text(size = 10))\n",
    "\n",
    "C5c = C5 %>%\n",
    "  group_by(Week) %>%\n",
    "  summarise(count = sum(complaint_count))\n",
    "e = ggplot(C5c, aes(x=Week,y=count)) + geom_line(group=1) + ggtitle(topcomplaints[5]) + theme(plot.title = element_text(size = 10))\n",
    "\n",
    "C6c = C6 %>%\n",
    "  group_by(Week) %>%\n",
    "  summarise(count = sum(complaint_count))\n",
    "f = ggplot(C6c, aes(x=Week,y=count)) + geom_line(group=1) + ggtitle(topcomplaints[6]) + theme(plot.title = element_text(size = 10))\n",
    "\n",
    "grid.arrange(a, b, c, d, e, f, ncol=3, nrow =2)\n",
    "\n",
    "\n",
    "\n"
   ]
  },
  {
   "cell_type": "code",
   "execution_count": null,
   "metadata": {
    "collapsed": false
   },
   "outputs": [],
   "source": [
    "# Complaint Count by Weekday\n",
    "\n",
    "C1d = C1 %>%\n",
    "  group_by(Weekday) %>%\n",
    "  summarise(count = sum(complaint_count))\n",
    "days = c(\"Mon\", \"Tue\", \"Wed\", \"Thurs\", \"Fri\", \"Sat\", \"Sun\")\n",
    "levels(C1d$Weekday) = days\n",
    "a = ggplot(C1d, aes(x=Weekday,y=count)) + geom_line(group=1) + ggtitle(topcomplaints[1]) + theme(plot.title = element_text(size = 10))+ theme(axis.text.x=element_text(angle=90,hjust=1,vjust=0.5))\n",
    "\n",
    "C2d = C2 %>%\n",
    "  group_by(Weekday) %>%\n",
    "  summarise(count = sum(complaint_count))\n",
    "days = c(\"Mon\", \"Tue\", \"Wed\", \"Thurs\", \"Fri\", \"Sat\", \"Sun\")\n",
    "levels(C2d$Weekday) = days\n",
    "b = ggplot(C2d, aes(x=Weekday,y=count)) +  geom_line(group=1) + ggtitle(topcomplaints[2]) + theme(plot.title = element_text(size = 10))+ theme(axis.text.x=element_text(angle=90,hjust=1,vjust=0.5))\n",
    "\n",
    "C3d = C3 %>%\n",
    "  group_by(Weekday) %>%\n",
    "  summarise(count = sum(complaint_count))\n",
    "days = c(\"Mon\", \"Tue\", \"Wed\", \"Thurs\", \"Fri\", \"Sat\", \"Sun\")\n",
    "levels(C3d$Weekday) = days\n",
    "c = ggplot(C3d, aes(x=Weekday,y=count))+ geom_line(group=1) + ggtitle(topcomplaints[3]) + theme(plot.title = element_text(size = 10))+ theme(axis.text.x=element_text(angle=90,hjust=1,vjust=0.5))\n",
    "\n",
    "C4d = C4 %>%\n",
    "  group_by(Weekday) %>%\n",
    "  summarise(count = sum(complaint_count))\n",
    "days = c(\"Mon\", \"Tue\", \"Wed\", \"Thurs\", \"Fri\", \"Sat\", \"Sun\")\n",
    "levels(C4d$Weekday) = days\n",
    "d = ggplot(C4d, aes(x=Weekday,y=count)) + geom_line(group=1) + ggtitle(topcomplaints[4]) + theme(plot.title = element_text(size = 10))+ theme(axis.text.x=element_text(angle=90,hjust=1,vjust=0.5))\n",
    "\n",
    "C5d = C5 %>%\n",
    "  group_by(Weekday) %>%\n",
    "  summarise(count = sum(complaint_count))\n",
    "days = c(\"Mon\", \"Tue\", \"Wed\", \"Thurs\", \"Fri\", \"Sat\", \"Sun\")\n",
    "levels(C5d$Weekday) = days\n",
    "e = ggplot(C5d, aes(x=Weekday,y=count)) + geom_line(group=1) + ggtitle(topcomplaints[5]) + theme(plot.title = element_text(size = 10))+ theme(axis.text.x=element_text(angle=90,hjust=1,vjust=0.5))\n",
    "\n",
    "C6d = C6 %>%\n",
    "  group_by(Weekday) %>%\n",
    "  summarise(count = sum(complaint_count))\n",
    "days = c(\"Mon\", \"Tue\", \"Wed\", \"Thurs\", \"Fri\", \"Sat\", \"Sun\")\n",
    "levels(C6d$Weekday) = days\n",
    "f = ggplot(C6d, aes(x=Weekday,y=count)) + geom_line(group=1) + ggtitle(topcomplaints[6]) + theme(plot.title = element_text(size = 10))+ theme(axis.text.x=element_text(angle=90,hjust=1,vjust=0.5))\n",
    "\n",
    "grid.arrange(a, b, c, d, e, f, ncol=3, nrow =2)"
   ]
  },
  {
   "cell_type": "code",
   "execution_count": null,
   "metadata": {
    "collapsed": false
   },
   "outputs": [],
   "source": [
    "#Top wards of each complaint type\n",
    "C1e = C1 %>%\n",
    "  group_by(Ward) %>%\n",
    "  summarise(count = sum(complaint_count))\n",
    "C1e = C1e[order(-C1e$count),]  \n",
    "C1e <- transform(C1e, Ward = reorder(Ward, -count))\n",
    "a = ggplot(C1e[1:10,], aes(x=Ward, y=count)) + geom_bar(stat = \"identity\") + theme(axis.text.x=element_text(angle=90,hjust=1,vjust=0.5)) + ggtitle(topcomplaints[1]) + theme(plot.title = element_text(size = 10))\n",
    "topwards_C1 = C1e[1:10,]$Ward\n",
    "\n",
    "C2e = C2 %>%\n",
    "  group_by(Ward) %>%\n",
    "  summarise(count = sum(complaint_count))\n",
    "C2e = C2e[order(-C2e$count),]  \n",
    "C2e <- transform(C2e, Ward = reorder(Ward, -count))\n",
    "b = ggplot(C2e[1:10,], aes(x=Ward, y=count)) + geom_bar(stat = \"identity\") + theme(axis.text.x=element_text(angle=90,hjust=1,vjust=0.5)) + ggtitle(topcomplaints[2]) + theme(plot.title = element_text(size = 10))\n",
    "topwards_C2 = C2e[1:10,]$Ward\n",
    "\n",
    "C3e = C3 %>%\n",
    "  group_by(Ward) %>%\n",
    "  summarise(count = sum(complaint_count))\n",
    "C3e = C3e[order(-C3e$count),]  \n",
    "C3e <- transform(C3e, Ward = reorder(Ward, -count))\n",
    "c = ggplot(C3e[1:10,], aes(x=Ward, y=count)) + geom_bar(stat = \"identity\") + theme(axis.text.x=element_text(angle=90,hjust=1,vjust=0.5)) + ggtitle(topcomplaints[3]) + theme(plot.title = element_text(size = 10))\n",
    "topwards_C3 = C3e[1:10,]$Ward\n",
    "\n",
    "C4e = C4 %>%\n",
    "  group_by(Ward) %>%\n",
    "  summarise(count = sum(complaint_count))\n",
    "C4e = C4e[order(-C4e$count),]  \n",
    "C4e <- transform(C4e, Ward = reorder(Ward, -count))\n",
    "d = ggplot(C4e[1:10,], aes(x=Ward, y=count)) + geom_bar(stat = \"identity\") + theme(axis.text.x=element_text(angle=90,hjust=1,vjust=0.5)) + ggtitle(topcomplaints[4]) + theme(plot.title = element_text(size = 10))\n",
    "topwards_C4 = C4e[1:10,]$Ward\n",
    "\n",
    "C5e = C5 %>%\n",
    "  group_by(Ward) %>%\n",
    "  summarise(count = sum(complaint_count))\n",
    "C5e = C5e[order(-C5e$count),]  \n",
    "C5e <- transform(C5e, Ward = reorder(Ward, -count))\n",
    "e = ggplot(C5e[1:10,], aes(x=Ward, y=count)) + geom_bar(stat = \"identity\") + theme(axis.text.x=element_text(angle=90,hjust=1,vjust=0.5)) + ggtitle(topcomplaints[5]) + theme(plot.title = element_text(size = 10))\n",
    "topwards_C5 = C5e[1:10,]$Ward\n",
    "\n",
    "C6e = C6 %>%\n",
    "  group_by(Ward) %>%\n",
    "  summarise(count = sum(complaint_count))\n",
    "C6e = C6e[order(-C6e$count),]  \n",
    "C6e <- transform(C6e, Ward = reorder(Ward, -count))\n",
    "f = ggplot(C6e[1:10,], aes(x=Ward, y=count)) + geom_bar(stat = \"identity\") + theme(axis.text.x=element_text(angle=90,hjust=1,vjust=0.5)) + ggtitle(topcomplaints[6]) + theme(plot.title = element_text(size = 10))\n",
    "topwards_C6 = C6e[1:10,]$Ward\n",
    "\n",
    "grid.arrange(a, b, c, d, e, f, ncol=3, nrow =2)"
   ]
  },
  {
   "cell_type": "code",
   "execution_count": null,
   "metadata": {
    "collapsed": false
   },
   "outputs": [],
   "source": [
    "# Trends of top wards over time for each complaint type\n",
    "C1f = C1 %>%\n",
    "  group_by(Ward, Year) %>%\n",
    "  summarise(count = sum(complaint_count))\n",
    "C1f = C1f[order(-C1f$count),]  \n",
    "C1f <- transform(C1f, Ward = reorder(Ward, -count))\n",
    "a = ggplot(C1f[C1f$Ward %in% topwards_C1,], aes(x=Ward, y=count)) + geom_bar(aes(fill = Year), position = \"dodge\", stat=\"identity\") + theme(axis.text.x=element_text(angle=90,hjust=1,vjust=0.5)) \n",
    "\n",
    "C2f = C2 %>%\n",
    "  group_by(Ward, Year) %>%\n",
    "  summarise(count = sum(complaint_count))\n",
    "C2f = C2f[order(-C2f$count),]  \n",
    "C2f <- transform(C2f, Ward = reorder(Ward, -count))\n",
    "b = ggplot(C2f[C2f$Ward %in% topwards_C2,], aes(x=Ward, y=count)) + geom_bar(aes(fill = Year), position = \"dodge\", stat=\"identity\") + theme(axis.text.x=element_text(angle=90,hjust=1,vjust=0.5))\n",
    "\n",
    "C3f = C3 %>%\n",
    "  group_by(Ward, Year) %>%\n",
    "  summarise(count = sum(complaint_count))\n",
    "C3f = C3f[order(-C3f$count),]  \n",
    "C3f <- transform(C3f, Ward = reorder(Ward, -count))\n",
    "c = ggplot(C3f[C3f$Ward %in% topwards_C3,], aes(x=Ward, y=count)) + geom_bar(aes(fill = Year), position = \"dodge\", stat=\"identity\") + theme(axis.text.x=element_text(angle=90,hjust=1,vjust=0.5))\n",
    "\n",
    "C4f = C4 %>%\n",
    "  group_by(Ward, Year) %>%\n",
    "  summarise(count = sum(complaint_count))\n",
    "C4f = C4f[order(-C4f$count),]  \n",
    "C4f <- transform(C4f, Ward = reorder(Ward, -count))\n",
    "d = ggplot(C4f[C4f$Ward %in% topwards_C4,], aes(x=Ward, y=count)) + geom_bar(aes(fill = Year), position = \"dodge\", stat=\"identity\") + theme(axis.text.x=element_text(angle=90,hjust=1,vjust=0.5))\n",
    "\n",
    "C5f = C5 %>%\n",
    "  group_by(Ward, Year) %>%\n",
    "  summarise(count = sum(complaint_count))\n",
    "C5f = C5f[order(-C5f$count),]  \n",
    "C5f <- transform(C5f, Ward = reorder(Ward, -count))\n",
    "e = ggplot(C5f[C5f$Ward %in% topwards_C5,], aes(x=Ward, y=count)) + geom_bar(aes(fill = Year), position = \"dodge\", stat=\"identity\") + theme(axis.text.x=element_text(angle=90,hjust=1,vjust=0.5))\n",
    "\n",
    "C6f = C6 %>%\n",
    "  group_by(Ward, Year) %>%\n",
    "  summarise(count = sum(complaint_count))\n",
    "C6f = C6f[order(-C6f$count),]  \n",
    "C6f <- transform(C6f, Ward = reorder(Ward, -count))\n",
    "f = ggplot(C6f[C6f$Ward %in% topwards_C6,], aes(x=Ward, y=count)) + geom_bar(aes(fill = Year), position = \"dodge\", stat=\"identity\") + theme(axis.text.x=element_text(angle=90,hjust=1,vjust=0.5))\n",
    "\n",
    "grid.arrange(a, b, c, d, e, f, ncol=2, nrow =3)\n",
    "\n"
   ]
  }
 ],
 "metadata": {
  "kernelspec": {
   "display_name": "R",
   "language": "R",
   "name": "ir"
  },
  "language_info": {
   "codemirror_mode": "r",
   "file_extension": ".r",
   "mimetype": "text/x-r-source",
   "name": "R",
   "pygments_lexer": "r",
   "version": "3.3.1"
  }
 },
 "nbformat": 4,
 "nbformat_minor": 1
}
